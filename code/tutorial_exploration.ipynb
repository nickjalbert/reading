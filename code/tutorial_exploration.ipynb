{
 "cells": [
  {
   "cell_type": "code",
   "execution_count": 12,
   "metadata": {},
   "outputs": [],
   "source": [
    "%matplotlib inline\n",
    "import matplotlib.pyplot as plt\n",
    "import math\n",
    "\n",
    "\n",
    "\n",
    "def do_timesteps(actual_cookie_size):\n",
    "    timestep_size = .01\n",
    "\n",
    "    timesteps = [timestep_size * i for i in range(1000)]\n",
    "\n",
    "    u = actual_cookie_size**2 # assume sensor isn't noisy\n",
    "    stdev_u = 1\n",
    "    v_p = 3\n",
    "    stdev_p = 1\n",
    "    phi = v_p\n",
    "    phis = []\n",
    "\n",
    "\n",
    "    for timestep in timesteps:\n",
    "        epsilon_p = (v_p - phi)/stdev_p\n",
    "        epsilon_u = (u - phi*phi)/stdev_u\n",
    "        gradient = epsilon_p + epsilon_u * 2 * phi\n",
    "        phi = phi + timestep_size * gradient\n",
    "        phis.append(phi)\n",
    "    \n",
    "    return phis[-1]\n",
    "    \n",
    "    \n",
    "    \n",
    "#fig = plt.figure()\n",
    "#plt.plot(timesteps, phis)\n",
    "#fig.suptitle('Best guess of foodsize', fontsize=14)\n",
    "#plt.xlabel('Food size', fontsize=18)\n",
    "#plt.ylabel('Time', fontsize=16)\n",
    "#plt.show()"
   ]
  },
  {
   "cell_type": "code",
   "execution_count": 13,
   "metadata": {},
   "outputs": [
    {
     "name": "stdout",
     "output_type": "stream",
     "text": [
      "Cookie size of 1.41 (should converge to 1.546): 1.5642895398626058\n"
     ]
    }
   ],
   "source": [
    "print(f'Cookie size of 1.41 (should converge to 1.546): {do_timesteps(1.41)}')"
   ]
  },
  {
   "cell_type": "code",
   "execution_count": 15,
   "metadata": {},
   "outputs": [
    {
     "name": "stdout",
     "output_type": "stream",
     "text": [
      "cookie size: final phi\n",
      "0.0: 1.0000000000000016\n",
      "0.5: 1.0720202162635242\n",
      "1.0: 1.2896239014850621\n",
      "1.5: 1.6334873067007813\n",
      "2.0: 2.0565452921624767\n",
      "2.5: 2.5190214990006536\n",
      "3.0: 3.0\n",
      "3.5: 3.4899576843060514\n",
      "4.0: 3.9845271008330037\n",
      "4.5: 4.481595942873734\n",
      "5.0: 4.98008031677845\n",
      "5.5: 5.479393481610074\n",
      "6.0: 5.979203086704261\n",
      "6.5: 6.479313698259908\n",
      "7.0: 6.979606852705835\n",
      "7.5: 8.401410067058478\n",
      "8.0: 8.845546823302668\n",
      "8.5: 3.908735273535995\n",
      "9.0: -7.8834699138432125\n",
      "9.5: 2.0412455722142955\n",
      "10.0: 1.039223848034462\n",
      "10.5: nan\n",
      "11.0: nan\n",
      "11.5: nan\n",
      "12.0: nan\n",
      "12.5: nan\n",
      "13.0: nan\n",
      "13.5: nan\n",
      "14.0: nan\n",
      "14.5: nan\n"
     ]
    }
   ],
   "source": [
    "print('cookie size: final phi')\n",
    "for i in range(30):\n",
    "    cookie_size = i/2\n",
    "    print(f'{cookie_size}: {do_timesteps(cookie_size)}')"
   ]
  },
  {
   "cell_type": "code",
   "execution_count": null,
   "metadata": {},
   "outputs": [],
   "source": []
  }
 ],
 "metadata": {
  "kernelspec": {
   "display_name": "Python 3",
   "language": "python",
   "name": "python3"
  },
  "language_info": {
   "codemirror_mode": {
    "name": "ipython",
    "version": 3
   },
   "file_extension": ".py",
   "mimetype": "text/x-python",
   "name": "python",
   "nbconvert_exporter": "python",
   "pygments_lexer": "ipython3",
   "version": "3.7.7"
  }
 },
 "nbformat": 4,
 "nbformat_minor": 4
}
